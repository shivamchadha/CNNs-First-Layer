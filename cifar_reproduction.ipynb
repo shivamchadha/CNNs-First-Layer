{
 "cells": [
  {
   "cell_type": "code",
   "execution_count": null,
   "metadata": {},
   "outputs": [],
   "source": [
    "from copy import deepcopy\n",
    "from utils import *\n",
    "from matplotlib import pyplot as plt"
   ]
  },
  {
   "cell_type": "code",
   "execution_count": null,
   "metadata": {},
   "outputs": [],
   "source": [
    "use_random_labels = False\n",
    "train_loader = get_dataloader(use_random_labels, train=True)\n",
    "num_images =10000"
   ]
  },
  {
   "cell_type": "code",
   "execution_count": null,
   "metadata": {},
   "outputs": [],
   "source": [
    "# Get Model and data\n",
    "model_vgg = 'vgg11'  # 'resnet20', 'vgg13_bn',...\n",
    "epochs_vgg = 30\n",
    "learning_rate_vgg = 0.01\n",
    "\n",
    "model_vgg = get_model(model_vgg)\n",
    "model_initialization_vgg = deepcopy(get_first_layer_weights(model_vgg))\n",
    "model_vgg.load_state_dict(torch.load('cifar_vgg.pth'))"
   ]
  },
  {
   "cell_type": "code",
   "execution_count": null,
   "metadata": {},
   "outputs": [],
   "source": [
    "# Get Model and data\n",
    "model_resnet = 'resnet20'  # 'resnet20', 'vgg13_bn',...\n",
    "epochs_resnet = 100\n",
    "learning_rate_resnet = \n",
    "\n",
    "model_resnet = get_model(model_resnet)\n",
    "model_initialization_resnet = deepcopy(get_first_layer_weights(model_resnet))\n",
    "model_resnet.load_state_dict(torch.load('cifar10_resnet.pt'))"
   ]
  },
  {
   "cell_type": "code",
   "execution_count": null,
   "metadata": {},
   "outputs": [],
   "source": [
    "pca = torch.load('cifar_pca.pt')\n",
    "components = pca[-1]\n",
    "lambdas = pca[1]\n",
    "lambda_squared = lambdas**2"
   ]
  },
  {
   "cell_type": "code",
   "execution_count": null,
   "metadata": {},
   "outputs": [],
   "source": [
    "trained_first_layer_vgg = get_first_layer_weights(model_vgg)\n",
    "model_energy_profile_vgg = calc_energy_profile(trained_first_layer_vgg, model_initialization_vgg, components, subtract_init=True, normalize=True)\n",
    "theoretic_profile_vgg, max_correlation_vgg = fit_formula_to_model(model_energy_profile_vgg, lambdas, lambda_squared, num_images,learning_rate_vgg)"
   ]
  },
  {
   "cell_type": "code",
   "execution_count": null,
   "metadata": {},
   "outputs": [],
   "source": [
    "trained_first_layer_resnet = get_first_layer_weights(model_resnet)\n",
    "model_energy_profile_resnet = calc_energy_profile(trained_first_layer_resnet, model_initialization_resnet, components, subtract_init=True, normalize=True)\n",
    "theoretic_profile_resnet, max_correlation_resnet = fit_formula_to_model(model_energy_profile_resnet, lambdas, lambda_squared, num_images,learning_rate_resnet)"
   ]
  },
  {
   "cell_type": "code",
   "execution_count": null,
   "metadata": {},
   "outputs": [],
   "source": [
    "plt.plot(model_energy_profile_vgg / model_energy_profile_vgg.max(), label=model_vgg)\n",
    "plt.plot(theoretic_profile_vgg / theoretic_profile_vgg.max(), label=\"Formula Fit\")\n",
    "plt.title(f\"Best Theoretical Fit\\ncorrelation={max_correlation_vgg:.2f}\")\n",
    "plt.legend()\n",
    "plt.show()"
   ]
  },
  {
   "cell_type": "code",
   "execution_count": null,
   "metadata": {},
   "outputs": [],
   "source": [
    "plt.plot(model_energy_profile_resnet / model_energy_profile_resnet.max(), label=model_resnet)\n",
    "plt.plot(theoretic_profile_resnet / theoretic_profile_resnet.max(), label=\"Formula Fit\")\n",
    "plt.title(f\"Best Theoretical Fit\\ncorrelation={max_correlation_resnet:.2f}\")\n",
    "plt.legend()\n",
    "plt.show()"
   ]
  }
 ],
 "metadata": {
  "language_info": {
   "name": "python"
  }
 },
 "nbformat": 4,
 "nbformat_minor": 2
}
